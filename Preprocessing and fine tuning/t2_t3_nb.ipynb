{
 "cells": [
  {
   "cell_type": "code",
   "execution_count": 1,
   "id": "e8c4e17c",
   "metadata": {},
   "outputs": [],
   "source": [
    "import numpy as np\n",
    "import pandas as pd\n",
    "import matplotlib.pyplot as plt"
   ]
  },
  {
   "cell_type": "code",
   "execution_count": 2,
   "id": "4d652ad0",
   "metadata": {},
   "outputs": [
    {
     "data": {
      "text/html": [
       "<div>\n",
       "<style scoped>\n",
       "    .dataframe tbody tr th:only-of-type {\n",
       "        vertical-align: middle;\n",
       "    }\n",
       "\n",
       "    .dataframe tbody tr th {\n",
       "        vertical-align: top;\n",
       "    }\n",
       "\n",
       "    .dataframe thead th {\n",
       "        text-align: right;\n",
       "    }\n",
       "</style>\n",
       "<table border=\"1\" class=\"dataframe\">\n",
       "  <thead>\n",
       "    <tr style=\"text-align: right;\">\n",
       "      <th></th>\n",
       "      <th>English_processed</th>\n",
       "      <th>label_task2</th>\n",
       "    </tr>\n",
       "  </thead>\n",
       "  <tbody>\n",
       "    <tr>\n",
       "      <th>0</th>\n",
       "      <td>Ignore the other one hes an asshole The probl...</td>\n",
       "      <td>REPORTED</td>\n",
       "    </tr>\n",
       "    <tr>\n",
       "      <th>1</th>\n",
       "      <td>Ignore the other one hes an asshole The probl...</td>\n",
       "      <td>JUDGEMENTAL</td>\n",
       "    </tr>\n",
       "    <tr>\n",
       "      <th>2</th>\n",
       "      <td>Ignore the other one hes an asshole The probl...</td>\n",
       "      <td>JUDGEMENTAL</td>\n",
       "    </tr>\n",
       "    <tr>\n",
       "      <th>3</th>\n",
       "      <td>Ignore the other one hes an asshole The probl...</td>\n",
       "      <td>REPORTED</td>\n",
       "    </tr>\n",
       "    <tr>\n",
       "      <th>4</th>\n",
       "      <td>Ignore the other one hes an asshole The probl...</td>\n",
       "      <td>JUDGEMENTAL</td>\n",
       "    </tr>\n",
       "    <tr>\n",
       "      <th>...</th>\n",
       "      <td>...</td>\n",
       "      <td>...</td>\n",
       "    </tr>\n",
       "    <tr>\n",
       "      <th>50219</th>\n",
       "      <td>Feminism is for women  Stupid men who call the...</td>\n",
       "      <td>UNKNOWN</td>\n",
       "    </tr>\n",
       "    <tr>\n",
       "      <th>50220</th>\n",
       "      <td>How real was that scene of Kat vs  All the inf...</td>\n",
       "      <td>UNKNOWN</td>\n",
       "    </tr>\n",
       "    <tr>\n",
       "      <th>50221</th>\n",
       "      <td>Incorrect  The term used to be used interchan...</td>\n",
       "      <td>UNKNOWN</td>\n",
       "    </tr>\n",
       "    <tr>\n",
       "      <th>50222</th>\n",
       "      <td>Its also quite common in agri pastoral societ...</td>\n",
       "      <td>UNKNOWN</td>\n",
       "    </tr>\n",
       "    <tr>\n",
       "      <th>50223</th>\n",
       "      <td>How real was that scene of Kat vs  All the inf...</td>\n",
       "      <td>UNKNOWN</td>\n",
       "    </tr>\n",
       "  </tbody>\n",
       "</table>\n",
       "<p>50224 rows × 2 columns</p>\n",
       "</div>"
      ],
      "text/plain": [
       "                                       English_processed  label_task2\n",
       "0       Ignore the other one hes an asshole The probl...     REPORTED\n",
       "1       Ignore the other one hes an asshole The probl...  JUDGEMENTAL\n",
       "2       Ignore the other one hes an asshole The probl...  JUDGEMENTAL\n",
       "3       Ignore the other one hes an asshole The probl...     REPORTED\n",
       "4       Ignore the other one hes an asshole The probl...  JUDGEMENTAL\n",
       "...                                                  ...          ...\n",
       "50219  Feminism is for women  Stupid men who call the...      UNKNOWN\n",
       "50220  How real was that scene of Kat vs  All the inf...      UNKNOWN\n",
       "50221   Incorrect  The term used to be used interchan...      UNKNOWN\n",
       "50222   Its also quite common in agri pastoral societ...      UNKNOWN\n",
       "50223  How real was that scene of Kat vs  All the inf...      UNKNOWN\n",
       "\n",
       "[50224 rows x 2 columns]"
      ]
     },
     "execution_count": 2,
     "metadata": {},
     "output_type": "execute_result"
    }
   ],
   "source": [
    "t2_data = pd.read_csv(\"TRAIN_task2_resampled(1).csv\")\n",
    "t2_data"
   ]
  },
  {
   "cell_type": "code",
   "execution_count": null,
   "id": "d608df21",
   "metadata": {},
   "outputs": [],
   "source": []
  }
 ],
 "metadata": {
  "kernelspec": {
   "display_name": "Python 3 (ipykernel)",
   "language": "python",
   "name": "python3"
  },
  "language_info": {
   "codemirror_mode": {
    "name": "ipython",
    "version": 3
   },
   "file_extension": ".py",
   "mimetype": "text/x-python",
   "name": "python",
   "nbconvert_exporter": "python",
   "pygments_lexer": "ipython3",
   "version": "3.11.5"
  }
 },
 "nbformat": 4,
 "nbformat_minor": 5
}
